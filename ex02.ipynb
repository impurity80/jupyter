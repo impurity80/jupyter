{
 "cells": [
  {
   "cell_type": "code",
   "execution_count": 10,
   "id": "61515d41-34af-4705-b287-740be3577e21",
   "metadata": {},
   "outputs": [
    {
     "name": "stdout",
     "output_type": "stream",
     "text": [
      "\n",
      "CPU 속도 : 37.355 초\n",
      "\n",
      "\n",
      "GPU 속도 : 0.002 초\n",
      "\n"
     ]
    }
   ],
   "source": [
    "import tensorflow as tf\n",
    "import time\n",
    "\n",
    "def cpu_time_matmul(x):\n",
    "    start = time.time()\n",
    "    for loop in range(10):\n",
    "        tf.matmul(x, x)\n",
    "\n",
    "    result = time.time()-start\n",
    "    print()\n",
    "    print(\"CPU 속도 : {:0.3f} 초\".format(result))\n",
    "    print()\n",
    "\n",
    "def gpu_time_matmul(x):\n",
    "    start = time.time()\n",
    "    for loop in range(10):\n",
    "        tf.matmul(x, x)\n",
    "\n",
    "    result = time.time()-start\n",
    "    print()\n",
    "    print(\"GPU 속도 : {:0.3f} 초\".format(result))\n",
    "    print()\n",
    "\n",
    "# CPU에서 강제 실행\n",
    "with tf.device(\"CPU:0\"):\n",
    "    x = tf.random.uniform([10000, 10000])\n",
    "    assert x.device.endswith(\"CPU:0\")\n",
    "    cpu_time_matmul(x)\n",
    "    \n",
    "# GPU 이용 가능시 GPU에서 강제 실행\n",
    "if tf.test.is_gpu_available():\n",
    "    with tf.device(\"GPU:0\"):\n",
    "        y = tf.random.uniform([10000, 10000])\n",
    "        assert y.device.endswith(\"GPU:0\")\n",
    "        gpu_time_matmul(y)     \n",
    "\n",
    " "
   ]
  },
  {
   "cell_type": "code",
   "execution_count": null,
   "id": "574dd54d-759e-48ae-9e44-0398f0f8a163",
   "metadata": {},
   "outputs": [],
   "source": []
  }
 ],
 "metadata": {
  "kernelspec": {
   "display_name": "Python 3 (ipykernel)",
   "language": "python",
   "name": "python3"
  },
  "language_info": {
   "codemirror_mode": {
    "name": "ipython",
    "version": 3
   },
   "file_extension": ".py",
   "mimetype": "text/x-python",
   "name": "python",
   "nbconvert_exporter": "python",
   "pygments_lexer": "ipython3",
   "version": "3.10.9"
  }
 },
 "nbformat": 4,
 "nbformat_minor": 5
}
